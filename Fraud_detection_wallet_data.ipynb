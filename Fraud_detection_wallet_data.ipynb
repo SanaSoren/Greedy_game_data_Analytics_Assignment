{
 "cells": [
  {
   "cell_type": "markdown",
   "id": "4f206152-6e8f-4d09-ae17-d564d08ba98f",
   "metadata": {},
   "source": [
    "# Identify Unusual Wallet Activity for Potential Fraud Detection"
   ]
  },
  {
   "cell_type": "code",
   "execution_count": 1,
   "id": "18398e6a-29da-4a8c-a1bf-bb2677d36a8b",
   "metadata": {},
   "outputs": [],
   "source": [
    "#import modules\n",
    "import pandas as pd\n",
    "import matplotlib.pyplot as plt\n",
    "import seaborn as sns\n",
    "from scipy.stats import zscore"
   ]
  },
  {
   "cell_type": "raw",
   "id": "e86c1d97-79ed-44ba-8463-f2e419c456cc",
   "metadata": {},
   "source": [
    "1. Pandas helps with data wrangling and aggregation.\n",
    "2. zscore from scipy.stats helps us statistically detect anomalies (outliers)."
   ]
  },
  {
   "cell_type": "code",
   "execution_count": 2,
   "id": "dd6c3ec1-ae1f-47f2-8039-247998ec0194",
   "metadata": {},
   "outputs": [
    {
     "data": {
      "text/html": [
       "<div>\n",
       "<style scoped>\n",
       "    .dataframe tbody tr th:only-of-type {\n",
       "        vertical-align: middle;\n",
       "    }\n",
       "\n",
       "    .dataframe tbody tr th {\n",
       "        vertical-align: top;\n",
       "    }\n",
       "\n",
       "    .dataframe thead th {\n",
       "        text-align: right;\n",
       "    }\n",
       "</style>\n",
       "<table border=\"1\" class=\"dataframe\">\n",
       "  <thead>\n",
       "    <tr style=\"text-align: right;\">\n",
       "      <th></th>\n",
       "      <th>adv_id</th>\n",
       "      <th>transaction_type</th>\n",
       "      <th>value</th>\n",
       "      <th>currency</th>\n",
       "      <th>source_entity_type</th>\n",
       "      <th>created_at</th>\n",
       "    </tr>\n",
       "  </thead>\n",
       "  <tbody>\n",
       "    <tr>\n",
       "      <th>0</th>\n",
       "      <td>d016c006-f927-48bc-987d-40a2f3f4648b</td>\n",
       "      <td>DEBIT</td>\n",
       "      <td>1.01</td>\n",
       "      <td>rupiyo_token</td>\n",
       "      <td>OFFER_REWARD</td>\n",
       "      <td>2024-10-21 15:48:09.797749+00:00</td>\n",
       "    </tr>\n",
       "    <tr>\n",
       "      <th>1</th>\n",
       "      <td>d016c006-f927-48bc-987d-40a2f3f4648b</td>\n",
       "      <td>DEBIT</td>\n",
       "      <td>0.02</td>\n",
       "      <td>rupiyo_token</td>\n",
       "      <td>DAILY_CHECKIN</td>\n",
       "      <td>2024-10-21 15:48:22.378338+00:00</td>\n",
       "    </tr>\n",
       "    <tr>\n",
       "      <th>2</th>\n",
       "      <td>d016c006-f927-48bc-987d-40a2f3f4648b</td>\n",
       "      <td>DEBIT</td>\n",
       "      <td>0.05</td>\n",
       "      <td>rupiyo_token</td>\n",
       "      <td>DAILY_CHECKIN</td>\n",
       "      <td>2024-10-22 02:52:52.695171+00:00</td>\n",
       "    </tr>\n",
       "    <tr>\n",
       "      <th>3</th>\n",
       "      <td>d016c006-f927-48bc-987d-40a2f3f4648b</td>\n",
       "      <td>DEBIT</td>\n",
       "      <td>0.10</td>\n",
       "      <td>rupiyo_token</td>\n",
       "      <td>DAILY_CHECKIN</td>\n",
       "      <td>2024-10-23 03:08:36.180386+00:00</td>\n",
       "    </tr>\n",
       "    <tr>\n",
       "      <th>4</th>\n",
       "      <td>ed359404-3d8a-4f3e-9d4e-38e6ef575254</td>\n",
       "      <td>DEBIT</td>\n",
       "      <td>1.01</td>\n",
       "      <td>rupiyo_token</td>\n",
       "      <td>OFFER_REWARD</td>\n",
       "      <td>2024-10-21 15:48:09.797749+00:00</td>\n",
       "    </tr>\n",
       "  </tbody>\n",
       "</table>\n",
       "</div>"
      ],
      "text/plain": [
       "                                 adv_id transaction_type  value      currency  \\\n",
       "0  d016c006-f927-48bc-987d-40a2f3f4648b            DEBIT   1.01  rupiyo_token   \n",
       "1  d016c006-f927-48bc-987d-40a2f3f4648b            DEBIT   0.02  rupiyo_token   \n",
       "2  d016c006-f927-48bc-987d-40a2f3f4648b            DEBIT   0.05  rupiyo_token   \n",
       "3  d016c006-f927-48bc-987d-40a2f3f4648b            DEBIT   0.10  rupiyo_token   \n",
       "4  ed359404-3d8a-4f3e-9d4e-38e6ef575254            DEBIT   1.01  rupiyo_token   \n",
       "\n",
       "  source_entity_type                        created_at  \n",
       "0       OFFER_REWARD  2024-10-21 15:48:09.797749+00:00  \n",
       "1      DAILY_CHECKIN  2024-10-21 15:48:22.378338+00:00  \n",
       "2      DAILY_CHECKIN  2024-10-22 02:52:52.695171+00:00  \n",
       "3      DAILY_CHECKIN  2024-10-23 03:08:36.180386+00:00  \n",
       "4       OFFER_REWARD  2024-10-21 15:48:09.797749+00:00  "
      ]
     },
     "execution_count": 2,
     "metadata": {},
     "output_type": "execute_result"
    }
   ],
   "source": [
    "#Load the dataset\n",
    "df = pd.read_csv(\"3_wallet_data.csv\")\n",
    "df.head(5)"
   ]
  },
  {
   "cell_type": "code",
   "execution_count": 3,
   "id": "fb97d262-a4d6-4789-b5f2-131e69ce0222",
   "metadata": {},
   "outputs": [],
   "source": [
    "#Clean dataset\n",
    "df = df.dropna(subset=[\"adv_id\", \"value\"])\n",
    "df[\"value\"] = df[\"value\"].abs()"
   ]
  },
  {
   "cell_type": "raw",
   "id": "f61acfa9-46de-487e-bfbd-6c33905c8b21",
   "metadata": {},
   "source": [
    "1. Remove rows with missing adv_id or value, since these are essential for analysis.\n",
    "2. We take the absolute value of transaction amounts to standardize (in case any are negative due to reversal bugs or errors)."
   ]
  },
  {
   "cell_type": "code",
   "execution_count": 4,
   "id": "13c7ca66-1939-441d-8b9a-be85afc59a83",
   "metadata": {},
   "outputs": [],
   "source": [
    "#Filter for Debit Transaction\n",
    "df_debit = df[df[\"transaction_type\"] == \"DEBIT\"]"
   ]
  },
  {
   "cell_type": "raw",
   "id": "b4060569-2ac7-499f-a35a-42980ae86aaf",
   "metadata": {},
   "source": [
    "1. The dataset contains only meaningful DEBIT transactions (CREDIT ones were absent).\n",
    "2. Focus on debits to detect excessive withdrawals, system abuse, or offer misuse."
   ]
  },
  {
   "cell_type": "code",
   "execution_count": 5,
   "id": "b0d74569-7d26-4457-b8b2-0d809d5f6543",
   "metadata": {},
   "outputs": [],
   "source": [
    "# Aggregate User-Level Wallet Activity\n",
    "agg = df_debit.groupby(\"adv_id\")[\"value\"].agg(\n",
    "    count_debit=\"count\",\n",
    "    sum_debit=\"sum\",\n",
    "    mean_debit=\"mean\",\n",
    "    std_debit=\"std\"\n",
    ").reset_index()"
   ]
  },
  {
   "cell_type": "markdown",
   "id": "30e4a036-0de9-46d6-8fb0-da92066dfc79",
   "metadata": {},
   "source": [
    "### Creates user-level metrics like:"
   ]
  },
  {
   "cell_type": "raw",
   "id": "3a8260f8-5202-4719-b267-faad22ab56b0",
   "metadata": {},
   "source": [
    "1. count_debit: Number of debit transactions\n",
    "2. sum_debit: Total money withdrawn\n",
    "3. mean_debit: Average debit amount\n",
    "4. std_debit: Variability of amounts (standard deviation)\n",
    "\n",
    "These metrics help us understand user behavior patterns: frequency, volume, and consistency."
   ]
  },
  {
   "cell_type": "code",
   "execution_count": 6,
   "id": "d7549158-499e-44f1-9270-ab132e5d4bea",
   "metadata": {},
   "outputs": [],
   "source": [
    "# Handle Missing Standard Deviation\n",
    "agg[\"std_debit\"] = agg[\"std_debit\"].fillna(0)"
   ]
  },
  {
   "cell_type": "raw",
   "id": "55c3b1e2-b4a4-4975-b44a-f0ff5d9bde1d",
   "metadata": {},
   "source": [
    "Users with only 1 transaction have no variability (std = NaN). \n",
    "Treat their std deviation as 0 for clean analysis."
   ]
  },
  {
   "cell_type": "code",
   "execution_count": 7,
   "id": "f118dfe3-5eba-4c27-82f6-17f0fe9e55de",
   "metadata": {},
   "outputs": [],
   "source": [
    "# Calculate Z-Scores for Outlier Detection\n",
    "\n",
    "for col in [\"count_debit\", \"sum_debit\", \"mean_debit\", \"std_debit\"]:\n",
    "    agg[f\"z_{col}\"] = zscore(agg[col])\n",
    "\n",
    "# Flag anomalies\n",
    "agg[\"anomaly\"] = agg[[f\"z_{c}\" for c in [\"count_debit\", \"sum_debit\", \"mean_debit\", \"std_debit\"]]].abs().max(axis=1) > 3"
   ]
  },
  {
   "cell_type": "raw",
   "id": "cf6bcbb7-a36b-489d-9feb-30ac6150fa90",
   "metadata": {},
   "source": [
    "Z-score tells us how many standard deviations a value is from the mean.\n",
    "If Z-score > 3 (or < -3), it typically means the value is anomalously high or low.\n",
    "\n",
    "We calculated the Z-score to flag users whose debit activity is extremely abnormal compared to others."
   ]
  },
  {
   "cell_type": "code",
   "execution_count": 8,
   "id": "9d833ef9-266e-4616-8392-8bdd2333a294",
   "metadata": {},
   "outputs": [
    {
     "data": {
      "text/html": [
       "<div>\n",
       "<style scoped>\n",
       "    .dataframe tbody tr th:only-of-type {\n",
       "        vertical-align: middle;\n",
       "    }\n",
       "\n",
       "    .dataframe tbody tr th {\n",
       "        vertical-align: top;\n",
       "    }\n",
       "\n",
       "    .dataframe thead th {\n",
       "        text-align: right;\n",
       "    }\n",
       "</style>\n",
       "<table border=\"1\" class=\"dataframe\">\n",
       "  <thead>\n",
       "    <tr style=\"text-align: right;\">\n",
       "      <th></th>\n",
       "      <th>adv_id</th>\n",
       "      <th>count_debit</th>\n",
       "      <th>sum_debit</th>\n",
       "      <th>mean_debit</th>\n",
       "      <th>std_debit</th>\n",
       "      <th>z_count_debit</th>\n",
       "      <th>z_sum_debit</th>\n",
       "      <th>z_mean_debit</th>\n",
       "      <th>z_std_debit</th>\n",
       "      <th>anomaly</th>\n",
       "    </tr>\n",
       "  </thead>\n",
       "  <tbody>\n",
       "    <tr>\n",
       "      <th>128521</th>\n",
       "      <td>f0ff29f5-7e7c-42d2-9984-b07918c19dbf</td>\n",
       "      <td>121</td>\n",
       "      <td>1139664.11</td>\n",
       "      <td>9418.711653</td>\n",
       "      <td>6302.018512</td>\n",
       "      <td>9.181284</td>\n",
       "      <td>44.190273</td>\n",
       "      <td>30.395628</td>\n",
       "      <td>22.138292</td>\n",
       "      <td>True</td>\n",
       "    </tr>\n",
       "    <tr>\n",
       "      <th>58691</th>\n",
       "      <td>6da00477-3c1a-455e-8ddb-aec86ece2e36</td>\n",
       "      <td>121</td>\n",
       "      <td>1139664.11</td>\n",
       "      <td>9418.711653</td>\n",
       "      <td>6302.018512</td>\n",
       "      <td>9.181284</td>\n",
       "      <td>44.190273</td>\n",
       "      <td>30.395628</td>\n",
       "      <td>22.138292</td>\n",
       "      <td>True</td>\n",
       "    </tr>\n",
       "    <tr>\n",
       "      <th>81926</th>\n",
       "      <td>995f8e7e-3e77-4adc-8d58-c30f1eb93114</td>\n",
       "      <td>121</td>\n",
       "      <td>1139664.11</td>\n",
       "      <td>9418.711653</td>\n",
       "      <td>6302.018512</td>\n",
       "      <td>9.181284</td>\n",
       "      <td>44.190273</td>\n",
       "      <td>30.395628</td>\n",
       "      <td>22.138292</td>\n",
       "      <td>True</td>\n",
       "    </tr>\n",
       "    <tr>\n",
       "      <th>109702</th>\n",
       "      <td>cdad6d5b-b60e-46a4-87c6-e676400761f9</td>\n",
       "      <td>121</td>\n",
       "      <td>1139664.11</td>\n",
       "      <td>9418.711653</td>\n",
       "      <td>6302.018512</td>\n",
       "      <td>9.181284</td>\n",
       "      <td>44.190273</td>\n",
       "      <td>30.395628</td>\n",
       "      <td>22.138292</td>\n",
       "      <td>True</td>\n",
       "    </tr>\n",
       "    <tr>\n",
       "      <th>129733</th>\n",
       "      <td>f33a8cc7-f459-4243-b797-a691d9137ab4</td>\n",
       "      <td>121</td>\n",
       "      <td>1139664.11</td>\n",
       "      <td>9418.711653</td>\n",
       "      <td>6302.018512</td>\n",
       "      <td>9.181284</td>\n",
       "      <td>44.190273</td>\n",
       "      <td>30.395628</td>\n",
       "      <td>22.138292</td>\n",
       "      <td>True</td>\n",
       "    </tr>\n",
       "  </tbody>\n",
       "</table>\n",
       "</div>"
      ],
      "text/plain": [
       "                                      adv_id  count_debit   sum_debit  \\\n",
       "128521  f0ff29f5-7e7c-42d2-9984-b07918c19dbf          121  1139664.11   \n",
       "58691   6da00477-3c1a-455e-8ddb-aec86ece2e36          121  1139664.11   \n",
       "81926   995f8e7e-3e77-4adc-8d58-c30f1eb93114          121  1139664.11   \n",
       "109702  cdad6d5b-b60e-46a4-87c6-e676400761f9          121  1139664.11   \n",
       "129733  f33a8cc7-f459-4243-b797-a691d9137ab4          121  1139664.11   \n",
       "\n",
       "         mean_debit    std_debit  z_count_debit  z_sum_debit  z_mean_debit  \\\n",
       "128521  9418.711653  6302.018512       9.181284    44.190273     30.395628   \n",
       "58691   9418.711653  6302.018512       9.181284    44.190273     30.395628   \n",
       "81926   9418.711653  6302.018512       9.181284    44.190273     30.395628   \n",
       "109702  9418.711653  6302.018512       9.181284    44.190273     30.395628   \n",
       "129733  9418.711653  6302.018512       9.181284    44.190273     30.395628   \n",
       "\n",
       "        z_std_debit  anomaly  \n",
       "128521    22.138292     True  \n",
       "58691     22.138292     True  \n",
       "81926     22.138292     True  \n",
       "109702    22.138292     True  \n",
       "129733    22.138292     True  "
      ]
     },
     "execution_count": 8,
     "metadata": {},
     "output_type": "execute_result"
    }
   ],
   "source": [
    "# Show top anomalies\n",
    "anomalies = agg[agg[\"anomaly\"]].sort_values(by=\"z_sum_debit\", ascending=False)\n",
    "anomalies.head(5)"
   ]
  },
  {
   "cell_type": "raw",
   "id": "550633a2-613a-46ce-b29b-6ee2e947fb99",
   "metadata": {},
   "source": [
    "This gives us the top suspicious users like those withdrawing huge amounts or with highly inconsistent activity."
   ]
  },
  {
   "cell_type": "markdown",
   "id": "835c0aa4-a421-498d-b473-954c67474a89",
   "metadata": {},
   "source": [
    "## Conclusion"
   ]
  },
  {
   "cell_type": "raw",
   "id": "07f1479c-8924-4bf7-bafc-948d61e82546",
   "metadata": {},
   "source": [
    "Isolated users with DEBIT-only activity and aggregated metrics like total debit amount, frequency, and consistency of debit amounts. \n",
    "Then, used z-score normalization to detect statistical outliers. Users with unusually high debit frequency or total amount may indicate fraud, such as abuse of offers, system exploits, or bot activity. This method builds a data-driven fraud detection baseline."
   ]
  },
  {
   "cell_type": "code",
   "execution_count": 9,
   "id": "fb2ada78-2ad5-441f-a986-b4bd1785c900",
   "metadata": {},
   "outputs": [
    {
     "data": {
      "image/png": "[encoded data removed]",
      "text/plain": [
       "<Figure size 600x600 with 1 Axes>"
      ]
     },
     "metadata": {},
     "output_type": "display_data"
    }
   ],
   "source": [
    "# Count anomaly vs normal users\n",
    "counts = agg[\"anomaly\"].value_counts()\n",
    "labels = [\"Normal Users\", \"Anomalous Users\"]\n",
    "colors = [\"#4CAF50\", \"#FF3B30\"]\n",
    "\n",
    "# Create pie chart\n",
    "plt.figure(figsize=(6, 6))\n",
    "plt.pie(\n",
    "    counts,\n",
    "    labels=labels,\n",
    "    autopct='%1.1f%%',\n",
    "    colors=colors,\n",
    "    startangle=140,\n",
    "    wedgeprops={'edgecolor': 'white'}\n",
    ")\n",
    "plt.title(\"Proportion of Anomalous vs Normal Users\", fontsize=14, weight='bold')\n",
    "plt.tight_layout()\n",
    "plt.show()"
   ]
  },
  {
   "cell_type": "code",
   "execution_count": null,
   "id": "4c2a771d-13c9-4472-a4fc-5d49a5097a1e",
   "metadata": {},
   "outputs": [],
   "source": []
  },
  {
   "cell_type": "code",
   "execution_count": null,
   "id": "33622200-094e-4ee7-b9fc-7a9e2b67a57e",
   "metadata": {},
   "outputs": [],
   "source": []
  }
 ],
 "metadata": {
  "kernelspec": {
   "display_name": "Python 3 (ipykernel)",
   "language": "python",
   "name": "python3"
  },
  "language_info": {
   "codemirror_mode": {
    "name": "ipython",
    "version": 3
   },
   "file_extension": ".py",
   "mimetype": "text/x-python",
   "name": "python",
   "nbconvert_exporter": "python",
   "pygments_lexer": "ipython3",
   "version": "3.11.7"
  }
 },
 "nbformat": 4,
 "nbformat_minor": 5
}

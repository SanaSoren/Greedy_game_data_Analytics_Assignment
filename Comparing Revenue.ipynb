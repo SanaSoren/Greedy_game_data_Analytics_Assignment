{
 "cells": [
  {
   "cell_type": "markdown",
   "id": "e9769d86-af62-41fe-9834-f9c60839442d",
   "metadata": {},
   "source": [
    "# Comparing Revenue Per User Between Referral and Non-Referral Groups"
   ]
  },
  {
   "cell_type": "markdown",
   "id": "51ff173d-9f4d-4d4a-8ee8-5dd40876d06d",
   "metadata": {},
   "source": [
    "###  Objective\n",
    "\n",
    "Understand how effective the **referral program** is on the Bharat Cash app by comparing the **Revenue Per User (RPU)** between:\n",
    "- Users who joined via **referrals**\n",
    "- Users who joined **organically (non-referral)**"
   ]
  },
  {
   "cell_type": "code",
   "execution_count": 1,
   "id": "039a29a1-c601-4106-beaa-b80370c91fcd",
   "metadata": {},
   "outputs": [],
   "source": [
    "import pandas as pd\n",
    "import matplotlib.pyplot as plt"
   ]
  },
  {
   "cell_type": "code",
   "execution_count": 2,
   "id": "ded74c73-9e71-48d5-bdde-df85ce7611e8",
   "metadata": {},
   "outputs": [],
   "source": [
    "# Load data\n",
    "df_login = pd.read_csv(\"6_1_bharatcash_overall_daily_login.csv\")\n",
    "df_referral = pd.read_csv(\"6_2_from_referral_bharatcash.csv\")\n",
    "df_referral_rev = pd.read_csv(\"6_3_rev_from_referral_bharatcash.csv\")\n",
    "df_overall_rev = pd.read_csv(\"6_4_rev_overall_bharatcash.csv\")"
   ]
  },
  {
   "cell_type": "code",
   "execution_count": 3,
   "id": "c962a8f3-f83c-427b-9692-06f66344f537",
   "metadata": {},
   "outputs": [
    {
     "data": {
      "text/html": [
       "<div>\n",
       "<style scoped>\n",
       "    .dataframe tbody tr th:only-of-type {\n",
       "        vertical-align: middle;\n",
       "    }\n",
       "\n",
       "    .dataframe tbody tr th {\n",
       "        vertical-align: top;\n",
       "    }\n",
       "\n",
       "    .dataframe thead th {\n",
       "        text-align: right;\n",
       "    }\n",
       "</style>\n",
       "<table border=\"1\" class=\"dataframe\">\n",
       "  <thead>\n",
       "    <tr style=\"text-align: right;\">\n",
       "      <th></th>\n",
       "      <th>adv_id</th>\n",
       "      <th>app_id</th>\n",
       "      <th>day</th>\n",
       "    </tr>\n",
       "  </thead>\n",
       "  <tbody>\n",
       "    <tr>\n",
       "      <th>0</th>\n",
       "      <td>eb766bea-b9d4-4508-b0a4-bbaf6bd910da</td>\n",
       "      <td>bharat_cash_incent</td>\n",
       "      <td>10/4/2024</td>\n",
       "    </tr>\n",
       "    <tr>\n",
       "      <th>1</th>\n",
       "      <td>eb766bea-b9d4-4508-b0a4-bbaf6bd910da</td>\n",
       "      <td>bharat_cash_incent</td>\n",
       "      <td>10/9/2024</td>\n",
       "    </tr>\n",
       "    <tr>\n",
       "      <th>2</th>\n",
       "      <td>eb766bea-b9d4-4508-b0a4-bbaf6bd910da</td>\n",
       "      <td>bharat_cash_incent</td>\n",
       "      <td>10/5/2024</td>\n",
       "    </tr>\n",
       "    <tr>\n",
       "      <th>3</th>\n",
       "      <td>eb766bea-b9d4-4508-b0a4-bbaf6bd910da</td>\n",
       "      <td>bharat_cash_incent</td>\n",
       "      <td>10/7/2024</td>\n",
       "    </tr>\n",
       "    <tr>\n",
       "      <th>4</th>\n",
       "      <td>eb766bea-b9d4-4508-b0a4-bbaf6bd910da</td>\n",
       "      <td>bharat_cash_incent</td>\n",
       "      <td>10/12/2024</td>\n",
       "    </tr>\n",
       "  </tbody>\n",
       "</table>\n",
       "</div>"
      ],
      "text/plain": [
       "                                 adv_id              app_id         day\n",
       "0  eb766bea-b9d4-4508-b0a4-bbaf6bd910da  bharat_cash_incent   10/4/2024\n",
       "1  eb766bea-b9d4-4508-b0a4-bbaf6bd910da  bharat_cash_incent   10/9/2024\n",
       "2  eb766bea-b9d4-4508-b0a4-bbaf6bd910da  bharat_cash_incent   10/5/2024\n",
       "3  eb766bea-b9d4-4508-b0a4-bbaf6bd910da  bharat_cash_incent   10/7/2024\n",
       "4  eb766bea-b9d4-4508-b0a4-bbaf6bd910da  bharat_cash_incent  10/12/2024"
      ]
     },
     "execution_count": 3,
     "metadata": {},
     "output_type": "execute_result"
    }
   ],
   "source": [
    "df_login.head(5)"
   ]
  },
  {
   "cell_type": "code",
   "execution_count": 4,
   "id": "467c39e5-e9a3-4e4e-ac5b-df5b3e064216",
   "metadata": {},
   "outputs": [
    {
     "data": {
      "text/html": [
       "<div>\n",
       "<style scoped>\n",
       "    .dataframe tbody tr th:only-of-type {\n",
       "        vertical-align: middle;\n",
       "    }\n",
       "\n",
       "    .dataframe tbody tr th {\n",
       "        vertical-align: top;\n",
       "    }\n",
       "\n",
       "    .dataframe thead th {\n",
       "        text-align: right;\n",
       "    }\n",
       "</style>\n",
       "<table border=\"1\" class=\"dataframe\">\n",
       "  <thead>\n",
       "    <tr style=\"text-align: right;\">\n",
       "      <th></th>\n",
       "      <th>referre_adv_id</th>\n",
       "      <th>created_at</th>\n",
       "    </tr>\n",
       "  </thead>\n",
       "  <tbody>\n",
       "    <tr>\n",
       "      <th>0</th>\n",
       "      <td>3f99ad4b-490f-4b4e-bb37-2a3a9f9901f8</td>\n",
       "      <td>2024-10-03 11:54:53.305014+00:00</td>\n",
       "    </tr>\n",
       "    <tr>\n",
       "      <th>1</th>\n",
       "      <td>fa31627c-5e01-41ef-a2ce-fef7b16ab77c</td>\n",
       "      <td>2024-10-03 11:53:42.989057+00:00</td>\n",
       "    </tr>\n",
       "    <tr>\n",
       "      <th>2</th>\n",
       "      <td>ca7518b7-51f2-425f-ada1-cc22490febba</td>\n",
       "      <td>2024-10-03 11:54:40.334748+00:00</td>\n",
       "    </tr>\n",
       "    <tr>\n",
       "      <th>3</th>\n",
       "      <td>5e8837ca-8bf2-4389-8c41-48b2998b7526</td>\n",
       "      <td>2024-10-03 11:54:22.953461+00:00</td>\n",
       "    </tr>\n",
       "    <tr>\n",
       "      <th>4</th>\n",
       "      <td>f89c5d77-53c3-4ffc-a131-ea2edf9431f0</td>\n",
       "      <td>2024-10-03 11:55:24.023826+00:00</td>\n",
       "    </tr>\n",
       "  </tbody>\n",
       "</table>\n",
       "</div>"
      ],
      "text/plain": [
       "                         referre_adv_id                        created_at\n",
       "0  3f99ad4b-490f-4b4e-bb37-2a3a9f9901f8  2024-10-03 11:54:53.305014+00:00\n",
       "1  fa31627c-5e01-41ef-a2ce-fef7b16ab77c  2024-10-03 11:53:42.989057+00:00\n",
       "2  ca7518b7-51f2-425f-ada1-cc22490febba  2024-10-03 11:54:40.334748+00:00\n",
       "3  5e8837ca-8bf2-4389-8c41-48b2998b7526  2024-10-03 11:54:22.953461+00:00\n",
       "4  f89c5d77-53c3-4ffc-a131-ea2edf9431f0  2024-10-03 11:55:24.023826+00:00"
      ]
     },
     "execution_count": 4,
     "metadata": {},
     "output_type": "execute_result"
    }
   ],
   "source": [
    "df_referral.head(5)"
   ]
  },
  {
   "cell_type": "code",
   "execution_count": 5,
   "id": "943ae3bd-07eb-4592-81b1-7067cd82a2c2",
   "metadata": {},
   "outputs": [
    {
     "data": {
      "text/html": [
       "<div>\n",
       "<style scoped>\n",
       "    .dataframe tbody tr th:only-of-type {\n",
       "        vertical-align: middle;\n",
       "    }\n",
       "\n",
       "    .dataframe tbody tr th {\n",
       "        vertical-align: top;\n",
       "    }\n",
       "\n",
       "    .dataframe thead th {\n",
       "        text-align: right;\n",
       "    }\n",
       "</style>\n",
       "<table border=\"1\" class=\"dataframe\">\n",
       "  <thead>\n",
       "    <tr style=\"text-align: right;\">\n",
       "      <th></th>\n",
       "      <th>adv_id</th>\n",
       "      <th>revenue_in_usd</th>\n",
       "    </tr>\n",
       "  </thead>\n",
       "  <tbody>\n",
       "    <tr>\n",
       "      <th>0</th>\n",
       "      <td>22a4bbb3-a2dc-417b-8b66-74e77c1343dd</td>\n",
       "      <td>0.358608</td>\n",
       "    </tr>\n",
       "    <tr>\n",
       "      <th>1</th>\n",
       "      <td>a20f6271-9511-4f1e-b417-d96a554279e9</td>\n",
       "      <td>0.358608</td>\n",
       "    </tr>\n",
       "    <tr>\n",
       "      <th>2</th>\n",
       "      <td>a2fad044-1f12-4673-b491-36bf625e9501</td>\n",
       "      <td>0.010041</td>\n",
       "    </tr>\n",
       "    <tr>\n",
       "      <th>3</th>\n",
       "      <td>8c98490d-4dce-4159-9385-e59a6d04403f</td>\n",
       "      <td>0.010000</td>\n",
       "    </tr>\n",
       "    <tr>\n",
       "      <th>4</th>\n",
       "      <td>8c98490d-4dce-4159-9385-e59a6d04403f</td>\n",
       "      <td>0.020000</td>\n",
       "    </tr>\n",
       "  </tbody>\n",
       "</table>\n",
       "</div>"
      ],
      "text/plain": [
       "                                 adv_id  revenue_in_usd\n",
       "0  22a4bbb3-a2dc-417b-8b66-74e77c1343dd        0.358608\n",
       "1  a20f6271-9511-4f1e-b417-d96a554279e9        0.358608\n",
       "2  a2fad044-1f12-4673-b491-36bf625e9501        0.010041\n",
       "3  8c98490d-4dce-4159-9385-e59a6d04403f        0.010000\n",
       "4  8c98490d-4dce-4159-9385-e59a6d04403f        0.020000"
      ]
     },
     "execution_count": 5,
     "metadata": {},
     "output_type": "execute_result"
    }
   ],
   "source": [
    "df_referral_rev.head(5)"
   ]
  },
  {
   "cell_type": "code",
   "execution_count": 6,
   "id": "ec589137-9642-42c4-a6a1-6ee4857ccf2d",
   "metadata": {},
   "outputs": [
    {
     "data": {
      "text/html": [
       "<div>\n",
       "<style scoped>\n",
       "    .dataframe tbody tr th:only-of-type {\n",
       "        vertical-align: middle;\n",
       "    }\n",
       "\n",
       "    .dataframe tbody tr th {\n",
       "        vertical-align: top;\n",
       "    }\n",
       "\n",
       "    .dataframe thead th {\n",
       "        text-align: right;\n",
       "    }\n",
       "</style>\n",
       "<table border=\"1\" class=\"dataframe\">\n",
       "  <thead>\n",
       "    <tr style=\"text-align: right;\">\n",
       "      <th></th>\n",
       "      <th>adv_id</th>\n",
       "      <th>revenue_in_usd</th>\n",
       "    </tr>\n",
       "  </thead>\n",
       "  <tbody>\n",
       "    <tr>\n",
       "      <th>0</th>\n",
       "      <td>82e77d80-06dc-490a-b997-995deec71282</td>\n",
       "      <td>0.009922</td>\n",
       "    </tr>\n",
       "    <tr>\n",
       "      <th>1</th>\n",
       "      <td>44af1bc8-f5a0-49ce-857f-8e3cb9515946</td>\n",
       "      <td>0.010000</td>\n",
       "    </tr>\n",
       "    <tr>\n",
       "      <th>2</th>\n",
       "      <td>44af1bc8-f5a0-49ce-857f-8e3cb9515946</td>\n",
       "      <td>0.020000</td>\n",
       "    </tr>\n",
       "    <tr>\n",
       "      <th>3</th>\n",
       "      <td>7f2e63f4-034a-4a14-b70d-00f7a570ad56</td>\n",
       "      <td>0.009922</td>\n",
       "    </tr>\n",
       "    <tr>\n",
       "      <th>4</th>\n",
       "      <td>7f2e63f4-034a-4a14-b70d-00f7a570ad56</td>\n",
       "      <td>0.120000</td>\n",
       "    </tr>\n",
       "  </tbody>\n",
       "</table>\n",
       "</div>"
      ],
      "text/plain": [
       "                                 adv_id  revenue_in_usd\n",
       "0  82e77d80-06dc-490a-b997-995deec71282        0.009922\n",
       "1  44af1bc8-f5a0-49ce-857f-8e3cb9515946        0.010000\n",
       "2  44af1bc8-f5a0-49ce-857f-8e3cb9515946        0.020000\n",
       "3  7f2e63f4-034a-4a14-b70d-00f7a570ad56        0.009922\n",
       "4  7f2e63f4-034a-4a14-b70d-00f7a570ad56        0.120000"
      ]
     },
     "execution_count": 6,
     "metadata": {},
     "output_type": "execute_result"
    }
   ],
   "source": [
    "df_overall_rev.head(5)"
   ]
  },
  {
   "cell_type": "code",
   "execution_count": 7,
   "id": "7a0dd3d8-50ac-4014-afe4-27d472e49d44",
   "metadata": {},
   "outputs": [],
   "source": [
    "# Identify referral and non-referral users\n",
    "referral_users = set(df_referral['referre_adv_id'].unique())\n",
    "all_users = set(df_login['adv_id'].unique())\n",
    "non_referral_users = all_users - referral_users"
   ]
  },
  {
   "cell_type": "code",
   "execution_count": 8,
   "id": "daaba376-ee60-4abc-8628-461c7f737f60",
   "metadata": {},
   "outputs": [
    {
     "data": {
      "text/html": [
       "<div>\n",
       "<style scoped>\n",
       "    .dataframe tbody tr th:only-of-type {\n",
       "        vertical-align: middle;\n",
       "    }\n",
       "\n",
       "    .dataframe tbody tr th {\n",
       "        vertical-align: top;\n",
       "    }\n",
       "\n",
       "    .dataframe thead th {\n",
       "        text-align: right;\n",
       "    }\n",
       "</style>\n",
       "<table border=\"1\" class=\"dataframe\">\n",
       "  <thead>\n",
       "    <tr style=\"text-align: right;\">\n",
       "      <th></th>\n",
       "      <th>adv_id</th>\n",
       "      <th>revenue_in_usd</th>\n",
       "    </tr>\n",
       "  </thead>\n",
       "  <tbody>\n",
       "    <tr>\n",
       "      <th>0</th>\n",
       "      <td>82e77d80-06dc-490a-b997-995deec71282</td>\n",
       "      <td>0.009922</td>\n",
       "    </tr>\n",
       "    <tr>\n",
       "      <th>1</th>\n",
       "      <td>44af1bc8-f5a0-49ce-857f-8e3cb9515946</td>\n",
       "      <td>0.010000</td>\n",
       "    </tr>\n",
       "    <tr>\n",
       "      <th>2</th>\n",
       "      <td>44af1bc8-f5a0-49ce-857f-8e3cb9515946</td>\n",
       "      <td>0.020000</td>\n",
       "    </tr>\n",
       "    <tr>\n",
       "      <th>3</th>\n",
       "      <td>7f2e63f4-034a-4a14-b70d-00f7a570ad56</td>\n",
       "      <td>0.009922</td>\n",
       "    </tr>\n",
       "    <tr>\n",
       "      <th>4</th>\n",
       "      <td>7f2e63f4-034a-4a14-b70d-00f7a570ad56</td>\n",
       "      <td>0.120000</td>\n",
       "    </tr>\n",
       "    <tr>\n",
       "      <th>...</th>\n",
       "      <td>...</td>\n",
       "      <td>...</td>\n",
       "    </tr>\n",
       "    <tr>\n",
       "      <th>220607</th>\n",
       "      <td>9b2d218c-3145-4fc9-8e5f-5cd63c831595</td>\n",
       "      <td>0.036000</td>\n",
       "    </tr>\n",
       "    <tr>\n",
       "      <th>220608</th>\n",
       "      <td>4f1b0ed8-f2b3-4226-8c52-aa57301e4e41</td>\n",
       "      <td>0.009922</td>\n",
       "    </tr>\n",
       "    <tr>\n",
       "      <th>220609</th>\n",
       "      <td>ca772695-34c8-45e9-a266-7c238ed258f7</td>\n",
       "      <td>0.200821</td>\n",
       "    </tr>\n",
       "    <tr>\n",
       "      <th>220610</th>\n",
       "      <td>ca772695-34c8-45e9-a266-7c238ed258f7</td>\n",
       "      <td>0.009922</td>\n",
       "    </tr>\n",
       "    <tr>\n",
       "      <th>220611</th>\n",
       "      <td>71d12b2e-c3d6-425a-b1c1-6b6994f86d6f</td>\n",
       "      <td>4.781446</td>\n",
       "    </tr>\n",
       "  </tbody>\n",
       "</table>\n",
       "<p>220580 rows × 2 columns</p>\n",
       "</div>"
      ],
      "text/plain": [
       "                                      adv_id  revenue_in_usd\n",
       "0       82e77d80-06dc-490a-b997-995deec71282        0.009922\n",
       "1       44af1bc8-f5a0-49ce-857f-8e3cb9515946        0.010000\n",
       "2       44af1bc8-f5a0-49ce-857f-8e3cb9515946        0.020000\n",
       "3       7f2e63f4-034a-4a14-b70d-00f7a570ad56        0.009922\n",
       "4       7f2e63f4-034a-4a14-b70d-00f7a570ad56        0.120000\n",
       "...                                      ...             ...\n",
       "220607  9b2d218c-3145-4fc9-8e5f-5cd63c831595        0.036000\n",
       "220608  4f1b0ed8-f2b3-4226-8c52-aa57301e4e41        0.009922\n",
       "220609  ca772695-34c8-45e9-a266-7c238ed258f7        0.200821\n",
       "220610  ca772695-34c8-45e9-a266-7c238ed258f7        0.009922\n",
       "220611  71d12b2e-c3d6-425a-b1c1-6b6994f86d6f        4.781446\n",
       "\n",
       "[220580 rows x 2 columns]"
      ]
     },
     "execution_count": 8,
     "metadata": {},
     "output_type": "execute_result"
    }
   ],
   "source": [
    "# Calculate total revenue\n",
    "# Merge revenue with referral and non-referral groups\n",
    "df_overall_rev = df_overall_rev.dropna(subset=['adv_id', 'revenue_in_usd'])\n",
    "\n",
    "df_overall_rev "
   ]
  },
  {
   "cell_type": "code",
   "execution_count": 9,
   "id": "00a18725-61ba-43b0-980d-80a1736af563",
   "metadata": {},
   "outputs": [],
   "source": [
    "# Total revenue from referred users\n",
    "referral_revenue = df_overall_rev[df_overall_rev['adv_id'].isin(referral_users)]['revenue_in_usd'].sum()"
   ]
  },
  {
   "cell_type": "code",
   "execution_count": 10,
   "id": "cb28c31e-a32d-40c8-a1f8-fa2618a24dfd",
   "metadata": {},
   "outputs": [],
   "source": [
    "# Total revenue from non-referred users\n",
    "non_referral_revenue = df_overall_rev[df_overall_rev['adv_id'].isin(non_referral_users)]['revenue_in_usd'].sum()"
   ]
  },
  {
   "cell_type": "code",
   "execution_count": 11,
   "id": "8d8ca2c0-37ad-4613-b45e-01cd4c4f57f5",
   "metadata": {},
   "outputs": [
    {
     "data": {
      "text/plain": [
       "0.9042554385583518"
      ]
     },
     "execution_count": 11,
     "metadata": {},
     "output_type": "execute_result"
    }
   ],
   "source": [
    "# Step 4: RPU Calculation\n",
    "rpu_referral = referral_revenue / len(referral_users)\n",
    "rpu_non_referral = non_referral_revenue / len(non_referral_users)\n",
    "rpu_non_referral"
   ]
  },
  {
   "cell_type": "code",
   "execution_count": 12,
   "id": "7298f858-56a2-427b-96b0-20821432fb28",
   "metadata": {},
   "outputs": [
    {
     "data": {
      "image/png": "[encoded data removed]",
      "text/plain": [
       "<Figure size 600x400 with 1 Axes>"
      ]
     },
     "metadata": {},
     "output_type": "display_data"
    }
   ],
   "source": [
    "# Step 5: Visualization\n",
    "plt.figure(figsize=(6, 4))\n",
    "plt.bar(['Referral', 'Non-Referral'], [rpu_referral, rpu_non_referral], color=['green', 'gray'])\n",
    "plt.ylabel(\"Revenue Per User (USD)\")\n",
    "plt.title(\"Comparison of RPU: Referral vs Non-Referral Users\")\n",
    "plt.grid(axis='y')\n",
    "plt.tight_layout()\n",
    "plt.show()"
   ]
  },
  {
   "cell_type": "code",
   "execution_count": 13,
   "id": "09842ab0-01cc-4657-8ef1-9305a3731d9a",
   "metadata": {},
   "outputs": [
    {
     "name": "stdout",
     "output_type": "stream",
     "text": [
      "Referral RPU: $0.24\n",
      "Non-Referral RPU: $0.90\n"
     ]
    }
   ],
   "source": [
    "# Step 6: Print Summary\n",
    "print(f\"Referral RPU: ${rpu_referral:.2f}\")\n",
    "print(f\"Non-Referral RPU: ${rpu_non_referral:.2f}\")"
   ]
  },
  {
   "cell_type": "markdown",
   "id": "4347eb7a-49c6-4d57-9433-6df491241922",
   "metadata": {},
   "source": [
    "### Methodology\n",
    "\n",
    "1. **Identify referral users** using `referre_adv_id`.\n",
    "2. **Identify non-referral users** as those present in login data but not in referral list.\n",
    "3. Get **revenue** for each group from `6_4_rev_overall_bharatcash.csv`.\n",
    "4. Calculate:\n",
    "   - **RPU (Referral)** = Total revenue from referral users / No. of referral users\n",
    "   - **RPU (Non-referral)** = (Total revenue from non-referral users) / No. of non-referral users\n",
    "5. **Visualize** the comparison using a bar chart."
   ]
  },
  {
   "cell_type": "markdown",
   "id": "26de5c70-b725-4449-bfcb-cfaef711b6e4",
   "metadata": {},
   "source": [
    "### Insights Expected\n",
    "\n",
    "- Are referral users generating **more or less** revenue per user?\n",
    "- Should the referral strategy be scaled or optimized?"
   ]
  },
  {
   "cell_type": "markdown",
   "id": "16ff9ce4-0524-4a29-a11e-2f331cbcb8d8",
   "metadata": {},
   "source": [
    "## Conclusion\n",
    "\n",
    "- Highlights the **impact of acquisition strategy** on revenue.\n",
    "- Helps in making **data-driven marketing decisions**.\n",
    "- Adds measurable ROI for referral campaigns."
   ]
  },
  {
   "cell_type": "code",
   "execution_count": null,
   "id": "d6fae560-93d7-43d1-8af0-4382e4e1f705",
   "metadata": {},
   "outputs": [],
   "source": []
  }
 ],
 "metadata": {
  "kernelspec": {
   "display_name": "Python 3 (ipykernel)",
   "language": "python",
   "name": "python3"
  },
  "language_info": {
   "codemirror_mode": {
    "name": "ipython",
    "version": 3
   },
   "file_extension": ".py",
   "mimetype": "text/x-python",
   "name": "python",
   "nbconvert_exporter": "python",
   "pygments_lexer": "ipython3",
   "version": "3.11.7"
  }
 },
 "nbformat": 4,
 "nbformat_minor": 5
}

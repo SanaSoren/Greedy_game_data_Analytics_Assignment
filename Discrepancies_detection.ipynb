{
 "cells": [
  {
   "cell_type": "markdown",
   "id": "175e1ee0-5a40-41ba-a21d-a01f15ef13a1",
   "metadata": {},
   "source": [
    "# Detecting Discrepancies in User Signup and Click Locations\n",
    "\n",
    "Understanding the consistency between user signup data and subsequent activity is crucial for detecting fraud, misuse, or unintended behavior. This notebook analyzes discrepancies between the **country where a user signed up** and the **country from which they are clicking**, which may indicate:\n",
    "\n",
    "- Account takeovers\n",
    "- VPN or proxy usage\n",
    "- Fraudulent activities"
   ]
  },
  {
   "cell_type": "code",
   "execution_count": 1,
   "id": "6ce196ba-ed6c-44f9-801e-86eb1efe9bfe",
   "metadata": {},
   "outputs": [],
   "source": [
    "import pandas as pd\n",
    "import requests\n",
    "import seaborn as sns\n",
    "import matplotlib.pyplot as plt"
   ]
  },
  {
   "cell_type": "markdown",
   "id": "dac4856e-9bdd-460b-9525-cf0e123c6827",
   "metadata": {},
   "source": [
    "### Load CSV files\n",
    "We will load the following:\n",
    "- `7_1_clicks_country.csv`: Country code from where click was generated\n",
    "- `7_2_clicks.csv`: Click-level info including `adv_id`\n",
    "- `7_4_user_signup_location.csv`: Signup country of the user"
   ]
  },
  {
   "cell_type": "code",
   "execution_count": 14,
   "id": "5220b7c7-1fcb-4c80-901a-9a1e7eb64655",
   "metadata": {},
   "outputs": [
    {
     "data": {
      "text/html": [
       "<div>\n",
       "<style scoped>\n",
       "    .dataframe tbody tr th:only-of-type {\n",
       "        vertical-align: middle;\n",
       "    }\n",
       "\n",
       "    .dataframe tbody tr th {\n",
       "        vertical-align: top;\n",
       "    }\n",
       "\n",
       "    .dataframe thead th {\n",
       "        text-align: right;\n",
       "    }\n",
       "</style>\n",
       "<table border=\"1\" class=\"dataframe\">\n",
       "  <thead>\n",
       "    <tr style=\"text-align: right;\">\n",
       "      <th></th>\n",
       "      <th>adv_id</th>\n",
       "      <th>country_code</th>\n",
       "    </tr>\n",
       "  </thead>\n",
       "  <tbody>\n",
       "    <tr>\n",
       "      <th>0</th>\n",
       "      <td>348d9cfa-5235-468f-9f6c-6d8c7f934119</td>\n",
       "      <td>IN</td>\n",
       "    </tr>\n",
       "    <tr>\n",
       "      <th>1</th>\n",
       "      <td>085c15df-a0f2-454a-a9d8-d50633f5d639</td>\n",
       "      <td>IN</td>\n",
       "    </tr>\n",
       "    <tr>\n",
       "      <th>2</th>\n",
       "      <td>9ffce855-e5f3-45f7-a90a-07f3b3c7f5ef</td>\n",
       "      <td>IN</td>\n",
       "    </tr>\n",
       "    <tr>\n",
       "      <th>3</th>\n",
       "      <td>0864553a-dda0-48c9-a605-2a30bb2a681b</td>\n",
       "      <td>IN</td>\n",
       "    </tr>\n",
       "    <tr>\n",
       "      <th>4</th>\n",
       "      <td>2f37dc38-570a-45ff-8e94-12f9e4e6fa24</td>\n",
       "      <td>IN</td>\n",
       "    </tr>\n",
       "    <tr>\n",
       "      <th>...</th>\n",
       "      <td>...</td>\n",
       "      <td>...</td>\n",
       "    </tr>\n",
       "    <tr>\n",
       "      <th>92557</th>\n",
       "      <td>be913e78-134e-4aa8-ac03-569d255030d2</td>\n",
       "      <td>NG</td>\n",
       "    </tr>\n",
       "    <tr>\n",
       "      <th>92558</th>\n",
       "      <td>757f2107-b8e3-4912-bc41-e7a97d51534f</td>\n",
       "      <td>ID</td>\n",
       "    </tr>\n",
       "    <tr>\n",
       "      <th>92559</th>\n",
       "      <td>80e4786e-1ff7-4029-b9b1-138c059de3bd</td>\n",
       "      <td>ID</td>\n",
       "    </tr>\n",
       "    <tr>\n",
       "      <th>92560</th>\n",
       "      <td>2a3123ce-60d2-4d6e-afdb-5da82d9614de</td>\n",
       "      <td>ID</td>\n",
       "    </tr>\n",
       "    <tr>\n",
       "      <th>92561</th>\n",
       "      <td>e21f8cab-5009-49cd-a9f1-5da1d72eb7a3</td>\n",
       "      <td>IN</td>\n",
       "    </tr>\n",
       "  </tbody>\n",
       "</table>\n",
       "<p>92562 rows × 2 columns</p>\n",
       "</div>"
      ],
      "text/plain": [
       "                                     adv_id country_code\n",
       "0      348d9cfa-5235-468f-9f6c-6d8c7f934119           IN\n",
       "1      085c15df-a0f2-454a-a9d8-d50633f5d639           IN\n",
       "2      9ffce855-e5f3-45f7-a90a-07f3b3c7f5ef           IN\n",
       "3      0864553a-dda0-48c9-a605-2a30bb2a681b           IN\n",
       "4      2f37dc38-570a-45ff-8e94-12f9e4e6fa24           IN\n",
       "...                                     ...          ...\n",
       "92557  be913e78-134e-4aa8-ac03-569d255030d2           NG\n",
       "92558  757f2107-b8e3-4912-bc41-e7a97d51534f           ID\n",
       "92559  80e4786e-1ff7-4029-b9b1-138c059de3bd           ID\n",
       "92560  2a3123ce-60d2-4d6e-afdb-5da82d9614de           ID\n",
       "92561  e21f8cab-5009-49cd-a9f1-5da1d72eb7a3           IN\n",
       "\n",
       "[92562 rows x 2 columns]"
      ]
     },
     "execution_count": 14,
     "metadata": {},
     "output_type": "execute_result"
    }
   ],
   "source": [
    "# Load datasets\n",
    "clicks_country = pd.read_csv('7_1_clicks_country.csv')\n",
    "clicks = pd.read_csv('7_2_clicks.csv')\n",
    "signup = pd.read_csv('7_4_user_signup_location.csv')\n",
    "#signup"
   ]
  },
  {
   "cell_type": "markdown",
   "id": "367d142e-9711-4a8c-8e1d-b3064cf3b00c",
   "metadata": {},
   "source": [
    "## Step 2: Merge Datasets to Map Clicks with Signup Location\n",
    "1. Join clicks with country info.\n",
    "2. Merge with user signup info."
   ]
  },
  {
   "cell_type": "code",
   "execution_count": 3,
   "id": "0384ae16-951b-41ee-8b3c-aea3a98f30f0",
   "metadata": {},
   "outputs": [],
   "source": [
    "# Merge click_id with country\n",
    "click_data = pd.merge(clicks, clicks_country, on='click_id', how='left')\n",
    "\n",
    "# Merge with signup location\n",
    "merged_data = pd.merge(click_data, signup, on='adv_id', how='left', suffixes=('_click', '_signup'))"
   ]
  },
  {
   "cell_type": "markdown",
   "id": "858492ee-359e-4e4d-b1bc-04eaea08f72a",
   "metadata": {},
   "source": [
    "## Step 3: Detect Discrepancies in Country Codes\n",
    "We will filter users whose **click country** does not match their **signup country**."
   ]
  },
  {
   "cell_type": "code",
   "execution_count": 4,
   "id": "a27e9291-ec6c-4de0-879e-4d745fcdd6d0",
   "metadata": {},
   "outputs": [],
   "source": [
    "# Filter mismatched country codes\n",
    "discrepancies = merged_data[merged_data['country_code_click'] != merged_data['country_code_signup']]"
   ]
  },
  {
   "cell_type": "markdown",
   "id": "763aa056-f907-4bfc-8009-12e203df131d",
   "metadata": {},
   "source": [
    "## Step 4: Map Country Codes to Country Names\n",
    "Use JSON from [PubScale Dashboard](https://dashboard.pubscale.com/json/country.json) to enrich with country names."
   ]
  },
  {
   "cell_type": "code",
   "execution_count": 5,
   "id": "78c62da5-deaf-4193-bf30-6e78f2167c54",
   "metadata": {},
   "outputs": [],
   "source": [
    "# Load country code-to-name mapping\n",
    "country_url = \"https://dashboard.pubscale.com/json/country.json\"\n",
    "country_mapping = requests.get(country_url).json()\n",
    "country_df = pd.DataFrame(country_mapping)\n",
    "\n",
    "# Map country codes to names\n",
    "discrepancies['click_country_name'] = discrepancies['country_code_click'].map(country_df.set_index('code')['name'])\n",
    "discrepancies['signup_country_name'] = discrepancies['country_code_signup'].map(country_df.set_index('code')['name'])\n",
    "\n",
    "# Drop missing values after mapping (optional)\n",
    "discrepancies.dropna(subset=['click_country_name', 'signup_country_name'], inplace=True)"
   ]
  },
  {
   "cell_type": "markdown",
   "id": "40bae762-f3e8-4d2a-a341-aeba46588ef9",
   "metadata": {},
   "source": [
    "## Step 5: View Top Discrepancies\n",
    "List unique suspicious users with different signup and click countries."
   ]
  },
  {
   "cell_type": "code",
   "execution_count": 6,
   "id": "3a142f61-9c79-4cd4-904e-c60b2c5a398e",
   "metadata": {},
   "outputs": [
    {
     "data": {
      "text/html": [
       "<div>\n",
       "<style scoped>\n",
       "    .dataframe tbody tr th:only-of-type {\n",
       "        vertical-align: middle;\n",
       "    }\n",
       "\n",
       "    .dataframe tbody tr th {\n",
       "        vertical-align: top;\n",
       "    }\n",
       "\n",
       "    .dataframe thead th {\n",
       "        text-align: right;\n",
       "    }\n",
       "</style>\n",
       "<table border=\"1\" class=\"dataframe\">\n",
       "  <thead>\n",
       "    <tr style=\"text-align: right;\">\n",
       "      <th></th>\n",
       "      <th>adv_id</th>\n",
       "      <th>click_id</th>\n",
       "      <th>click_country_name</th>\n",
       "      <th>signup_country_name</th>\n",
       "    </tr>\n",
       "  </thead>\n",
       "  <tbody>\n",
       "  </tbody>\n",
       "</table>\n",
       "</div>"
      ],
      "text/plain": [
       "Empty DataFrame\n",
       "Columns: [adv_id, click_id, click_country_name, signup_country_name]\n",
       "Index: []"
      ]
     },
     "execution_count": 6,
     "metadata": {},
     "output_type": "execute_result"
    }
   ],
   "source": [
    "# Get distinct mismatched users\n",
    "suspicious_users = discrepancies[['adv_id', 'click_id', 'click_country_name', 'signup_country_name']].drop_duplicates()\n",
    "\n",
    "# Show a sample\n",
    "suspicious_users.head(10)"
   ]
  },
  {
   "cell_type": "code",
   "execution_count": 7,
   "id": "d1d865a6-5fe5-42b2-b9c7-72baeb82f229",
   "metadata": {},
   "outputs": [
    {
     "name": "stdout",
     "output_type": "stream",
     "text": [
      "Total mismatches found: 0\n"
     ]
    },
    {
     "data": {
      "text/plain": [
       "signup_country_name    0\n",
       "click_country_name     0\n",
       "dtype: int64"
      ]
     },
     "execution_count": 7,
     "metadata": {},
     "output_type": "execute_result"
    }
   ],
   "source": [
    "# Check how many discrepancies exist\n",
    "print(\"Total mismatches found:\", discrepancies.shape[0])\n",
    "\n",
    "# Preview a few rows\n",
    "discrepancies[['adv_id', 'country_code_signup', 'country_code_click', 'signup_country_name', 'click_country_name']].head()\n",
    "\n",
    "# Check for any NaNs in country name columns\n",
    "discrepancies[['signup_country_name', 'click_country_name']].isnull().sum()"
   ]
  },
  {
   "cell_type": "markdown",
   "id": "03c41f8a-2207-420e-9cc2-1d8b07aaab0e",
   "metadata": {},
   "source": [
    "## Step 6: Visualize Top Country Mismatches\n",
    "We'll count the most common mismatched country flows using a barplot."
   ]
  },
  {
   "cell_type": "code",
   "execution_count": 8,
   "id": "3c26f54d-d8ea-42cd-b9ec-a6d42683d2dc",
   "metadata": {},
   "outputs": [
    {
     "name": "stdout",
     "output_type": "stream",
     "text": [
      "No mismatched country pairs found to visualize.\n"
     ]
    }
   ],
   "source": [
    "# Group by mismatched country pairs and count occurrences\n",
    "country_pairs = (\n",
    "    discrepancies\n",
    "    .groupby(['signup_country_name', 'click_country_name'])\n",
    "    .size()\n",
    "    .reset_index(name='count')\n",
    ")\n",
    "\n",
    "# Filter top 10 country discrepancies\n",
    "top_pairs = country_pairs.sort_values('count', ascending=False).head(10)\n",
    "\n",
    "# Plot only if data is available\n",
    "if not top_pairs.empty:\n",
    "    plt.figure(figsize=(10,6))\n",
    "    sns.barplot(x='count', y='signup_country_name', hue='click_country_name', data=top_pairs)\n",
    "    plt.title(\"Top Country Discrepancies (Signup vs Click)\")\n",
    "    plt.xlabel(\"Count of Discrepancies\")\n",
    "    plt.ylabel(\"Signup Country\")\n",
    "    plt.legend(title=\"Click Country\")\n",
    "    plt.tight_layout()\n",
    "    plt.show()\n",
    "else:\n",
    "    print(\"No mismatched country pairs found to visualize.\")"
   ]
  },
  {
   "cell_type": "markdown",
   "id": "4380d971-d843-49d5-aaa0-c403564d0a7a",
   "metadata": {},
   "source": [
    "## Summary\n",
    "\n",
    "- We identified users whose **clicks originated from a different country** than where they signed up.\n",
    "- This could point to **VPN usage**, **fraudulent activity**, or **suspicious access**.\n",
    "- Such users can be flagged for **manual review**, **security verification**, or **automated alerts**.\n",
    "\n",
    "\n",
    "\n",
    "**Extra Notes:**\n",
    "- Analyze time gaps between signup and mismatched clicks.\n",
    "- Incorporate login logs to validate DAUs with discrepancies.\n",
    "- Score users by frequency/severity of mismatches."
   ]
  }
 ],
 "metadata": {
  "kernelspec": {
   "display_name": "Python 3 (ipykernel)",
   "language": "python",
   "name": "python3"
  },
  "language_info": {
   "codemirror_mode": {
    "name": "ipython",
    "version": 3
   },
   "file_extension": ".py",
   "mimetype": "text/x-python",
   "name": "python",
   "nbconvert_exporter": "python",
   "pygments_lexer": "ipython3",
   "version": "3.11.7"
  }
 },
 "nbformat": 4,
 "nbformat_minor": 5
}

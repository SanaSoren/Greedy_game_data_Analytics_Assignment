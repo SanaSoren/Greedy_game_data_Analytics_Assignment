{
 "cells": [
  {
   "cell_type": "markdown",
   "id": "f7bbd8b8-7f54-451d-be15-95bba4524f2b",
   "metadata": {},
   "source": [
    "# RPC Anomaly Detection Project - Data Analyst Interview Case"
   ]
  },
  {
   "cell_type": "markdown",
   "id": "8789d5f3-6360-4f6f-a3e3-08187ec7763f",
   "metadata": {},
   "source": [
    "## Objective:\n",
    "### Identify anomalies in Revenue Per Click (RPC) for Oct 25, based on historical performance from Oct 17–24."
   ]
  },
  {
   "cell_type": "code",
   "execution_count": 1,
   "id": "4163388f-0a1b-42dd-884f-38f87b16f8b3",
   "metadata": {},
   "outputs": [],
   "source": [
    "import pandas as pd\n",
    "import matplotlib.pyplot as plt\n",
    "import seaborn as sns"
   ]
  },
  {
   "cell_type": "code",
   "execution_count": 2,
   "id": "ceeaf0c1-0c3c-47a1-a460-92594879b567",
   "metadata": {},
   "outputs": [],
   "source": [
    "# Load historical and current day data\n",
    "historical_df = pd.read_csv(\"5_2_17_oct_2024-24_oct_2024.csv\")\n",
    "oct25_df = pd.read_csv(\"5_1_25_oct_2024.csv\")"
   ]
  },
  {
   "cell_type": "code",
   "execution_count": 3,
   "id": "7338c8d3-212f-49cc-a06c-ca5beb216991",
   "metadata": {},
   "outputs": [
    {
     "data": {
      "text/html": [
       "<div>\n",
       "<style scoped>\n",
       "    .dataframe tbody tr th:only-of-type {\n",
       "        vertical-align: middle;\n",
       "    }\n",
       "\n",
       "    .dataframe tbody tr th {\n",
       "        vertical-align: top;\n",
       "    }\n",
       "\n",
       "    .dataframe thead th {\n",
       "        text-align: right;\n",
       "    }\n",
       "</style>\n",
       "<table border=\"1\" class=\"dataframe\">\n",
       "  <thead>\n",
       "    <tr style=\"text-align: right;\">\n",
       "      <th></th>\n",
       "      <th>day</th>\n",
       "      <th>offer_id</th>\n",
       "      <th>reward_id</th>\n",
       "      <th>app_id</th>\n",
       "      <th>country_code</th>\n",
       "      <th>default_reward_initiations</th>\n",
       "      <th>default_reward_completions</th>\n",
       "      <th>revenue_amount_in_usd</th>\n",
       "    </tr>\n",
       "  </thead>\n",
       "  <tbody>\n",
       "    <tr>\n",
       "      <th>0</th>\n",
       "      <td>10/21/2024</td>\n",
       "      <td>86159</td>\n",
       "      <td>167356</td>\n",
       "      <td>offerwall_320</td>\n",
       "      <td>IN</td>\n",
       "      <td>0</td>\n",
       "      <td>0</td>\n",
       "      <td>0.0</td>\n",
       "    </tr>\n",
       "    <tr>\n",
       "      <th>1</th>\n",
       "      <td>10/24/2024</td>\n",
       "      <td>260317</td>\n",
       "      <td>523448</td>\n",
       "      <td>offerwall_616</td>\n",
       "      <td>IN</td>\n",
       "      <td>2</td>\n",
       "      <td>0</td>\n",
       "      <td>0.0</td>\n",
       "    </tr>\n",
       "    <tr>\n",
       "      <th>2</th>\n",
       "      <td>10/22/2024</td>\n",
       "      <td>161390</td>\n",
       "      <td>298765</td>\n",
       "      <td>offerwall_165</td>\n",
       "      <td>IN</td>\n",
       "      <td>0</td>\n",
       "      <td>0</td>\n",
       "      <td>0.0</td>\n",
       "    </tr>\n",
       "    <tr>\n",
       "      <th>3</th>\n",
       "      <td>10/18/2024</td>\n",
       "      <td>239457</td>\n",
       "      <td>453505</td>\n",
       "      <td>offerwall_431</td>\n",
       "      <td>BR</td>\n",
       "      <td>2</td>\n",
       "      <td>0</td>\n",
       "      <td>0.0</td>\n",
       "    </tr>\n",
       "    <tr>\n",
       "      <th>4</th>\n",
       "      <td>10/22/2024</td>\n",
       "      <td>127554</td>\n",
       "      <td>228455</td>\n",
       "      <td>offerwall_286</td>\n",
       "      <td>IN</td>\n",
       "      <td>0</td>\n",
       "      <td>0</td>\n",
       "      <td>0.0</td>\n",
       "    </tr>\n",
       "  </tbody>\n",
       "</table>\n",
       "</div>"
      ],
      "text/plain": [
       "          day  offer_id  reward_id         app_id country_code  \\\n",
       "0  10/21/2024     86159     167356  offerwall_320           IN   \n",
       "1  10/24/2024    260317     523448  offerwall_616           IN   \n",
       "2  10/22/2024    161390     298765  offerwall_165           IN   \n",
       "3  10/18/2024    239457     453505  offerwall_431           BR   \n",
       "4  10/22/2024    127554     228455  offerwall_286           IN   \n",
       "\n",
       "   default_reward_initiations  default_reward_completions  \\\n",
       "0                           0                           0   \n",
       "1                           2                           0   \n",
       "2                           0                           0   \n",
       "3                           2                           0   \n",
       "4                           0                           0   \n",
       "\n",
       "   revenue_amount_in_usd  \n",
       "0                    0.0  \n",
       "1                    0.0  \n",
       "2                    0.0  \n",
       "3                    0.0  \n",
       "4                    0.0  "
      ]
     },
     "execution_count": 3,
     "metadata": {},
     "output_type": "execute_result"
    }
   ],
   "source": [
    "historical_df.head()"
   ]
  },
  {
   "cell_type": "code",
   "execution_count": 4,
   "id": "8d8ba9ff-b6fa-4854-b2f2-f93430efd90b",
   "metadata": {},
   "outputs": [
    {
     "data": {
      "text/html": [
       "<div>\n",
       "<style scoped>\n",
       "    .dataframe tbody tr th:only-of-type {\n",
       "        vertical-align: middle;\n",
       "    }\n",
       "\n",
       "    .dataframe tbody tr th {\n",
       "        vertical-align: top;\n",
       "    }\n",
       "\n",
       "    .dataframe thead th {\n",
       "        text-align: right;\n",
       "    }\n",
       "</style>\n",
       "<table border=\"1\" class=\"dataframe\">\n",
       "  <thead>\n",
       "    <tr style=\"text-align: right;\">\n",
       "      <th></th>\n",
       "      <th>day</th>\n",
       "      <th>offer_id</th>\n",
       "      <th>reward_id</th>\n",
       "      <th>app_id</th>\n",
       "      <th>country_code</th>\n",
       "      <th>default_reward_initiations</th>\n",
       "      <th>default_reward_completions</th>\n",
       "      <th>revenue_amount_in_usd</th>\n",
       "    </tr>\n",
       "  </thead>\n",
       "  <tbody>\n",
       "    <tr>\n",
       "      <th>0</th>\n",
       "      <td>10/25/2024</td>\n",
       "      <td>239456</td>\n",
       "      <td>453498</td>\n",
       "      <td>in_cash</td>\n",
       "      <td>ET</td>\n",
       "      <td>0</td>\n",
       "      <td>0</td>\n",
       "      <td>0.0</td>\n",
       "    </tr>\n",
       "    <tr>\n",
       "      <th>1</th>\n",
       "      <td>10/25/2024</td>\n",
       "      <td>85709</td>\n",
       "      <td>166860</td>\n",
       "      <td>chillar</td>\n",
       "      <td>KH</td>\n",
       "      <td>0</td>\n",
       "      <td>0</td>\n",
       "      <td>0.0</td>\n",
       "    </tr>\n",
       "    <tr>\n",
       "      <th>2</th>\n",
       "      <td>10/25/2024</td>\n",
       "      <td>161441</td>\n",
       "      <td>298842</td>\n",
       "      <td>offerwall_327</td>\n",
       "      <td>IN</td>\n",
       "      <td>0</td>\n",
       "      <td>0</td>\n",
       "      <td>0.0</td>\n",
       "    </tr>\n",
       "    <tr>\n",
       "      <th>3</th>\n",
       "      <td>10/25/2024</td>\n",
       "      <td>127554</td>\n",
       "      <td>228451</td>\n",
       "      <td>offerwall_431</td>\n",
       "      <td>ZA</td>\n",
       "      <td>1</td>\n",
       "      <td>0</td>\n",
       "      <td>0.0</td>\n",
       "    </tr>\n",
       "    <tr>\n",
       "      <th>4</th>\n",
       "      <td>10/25/2024</td>\n",
       "      <td>259828</td>\n",
       "      <td>521370</td>\n",
       "      <td>offerwall_325</td>\n",
       "      <td>IN</td>\n",
       "      <td>0</td>\n",
       "      <td>0</td>\n",
       "      <td>0.0</td>\n",
       "    </tr>\n",
       "  </tbody>\n",
       "</table>\n",
       "</div>"
      ],
      "text/plain": [
       "          day  offer_id  reward_id         app_id country_code  \\\n",
       "0  10/25/2024    239456     453498        in_cash           ET   \n",
       "1  10/25/2024     85709     166860        chillar           KH   \n",
       "2  10/25/2024    161441     298842  offerwall_327           IN   \n",
       "3  10/25/2024    127554     228451  offerwall_431           ZA   \n",
       "4  10/25/2024    259828     521370  offerwall_325           IN   \n",
       "\n",
       "   default_reward_initiations  default_reward_completions  \\\n",
       "0                           0                           0   \n",
       "1                           0                           0   \n",
       "2                           0                           0   \n",
       "3                           1                           0   \n",
       "4                           0                           0   \n",
       "\n",
       "   revenue_amount_in_usd  \n",
       "0                    0.0  \n",
       "1                    0.0  \n",
       "2                    0.0  \n",
       "3                    0.0  \n",
       "4                    0.0  "
      ]
     },
     "execution_count": 4,
     "metadata": {},
     "output_type": "execute_result"
    }
   ],
   "source": [
    "oct25_df.head()"
   ]
  },
  {
   "cell_type": "code",
   "execution_count": 5,
   "id": "c763071a-a65a-4614-8653-f617904a24b0",
   "metadata": {},
   "outputs": [],
   "source": [
    "# Compute RPC\n",
    "for df in [historical_df, oct25_df]:\n",
    "    df['RPC'] = df['revenue_amount_in_usd'] / df['default_reward_initiations']"
   ]
  },
  {
   "cell_type": "code",
   "execution_count": 6,
   "id": "e8f30fdf-cbd6-451c-bf3c-33e218a9c7ce",
   "metadata": {},
   "outputs": [
    {
     "name": "stdout",
     "output_type": "stream",
     "text": [
      "Historical rows: 659794\n",
      "Oct 25 rows: 79248\n"
     ]
    }
   ],
   "source": [
    "# Filter out noisy data (low RPC and low revenue)\n",
    "# historical_df = historical_df[(historical_df['RPC'] > 1) & (historical_df['revenue_amount_in_usd'] > 10)]\n",
    "# oct25_df = oct25_df[(oct25_df['RPC'] > 1) & (oct25_df['revenue_amount_in_usd'] > 10)]\n",
    "\n",
    "print(\"Historical rows:\", len(historical_df))\n",
    "print(\"Oct 25 rows:\", len(oct25_df))"
   ]
  },
  {
   "cell_type": "code",
   "execution_count": 7,
   "id": "a2d973ca-56b6-4844-98ba-d77ef4c1f066",
   "metadata": {},
   "outputs": [],
   "source": [
    "# Calculate historical average RPC (loose match: offer_id + country_code)\n",
    "avg_rpc = (\n",
    "    historical_df.groupby(['offer_id', 'country_code'])\n",
    "    .agg(avg_rpc=('RPC', 'mean'))\n",
    "    .reset_index()\n",
    ")"
   ]
  },
  {
   "cell_type": "code",
   "execution_count": 8,
   "id": "1e1c1c89-b106-4034-9f81-d9157bff615e",
   "metadata": {},
   "outputs": [],
   "source": [
    "# Adjust multiplier for testing (Adding Threshold)\n",
    "avg_rpc['threshold'] = avg_rpc['avg_rpc'] * 3  # Adjusted from 5 to 3 to catch more anomalie"
   ]
  },
  {
   "cell_type": "code",
   "execution_count": 9,
   "id": "b39a02be-a9b6-435d-9bed-f4e95dceaa10",
   "metadata": {},
   "outputs": [
    {
     "name": "stdout",
     "output_type": "stream",
     "text": [
      "Merged rows: 79248\n",
      "Missing threshold values: 6846\n"
     ]
    }
   ],
   "source": [
    "# Merge threshold into Oct 25 data (loose join)\n",
    "oct25_merged = oct25_df.merge(avg_rpc, on=['offer_id', 'country_code'], how='left')\n",
    "\n",
    "print(\"Merged rows:\", len(oct25_merged))\n",
    "print(\"Missing threshold values:\", oct25_merged['threshold'].isna().sum())"
   ]
  },
  {
   "cell_type": "code",
   "execution_count": 10,
   "id": "fe6b8305-a2ba-4c25-beb7-54d759ebffad",
   "metadata": {},
   "outputs": [
    {
     "name": "stdout",
     "output_type": "stream",
     "text": [
      "Anomalies found: 1421\n"
     ]
    }
   ],
   "source": [
    "# Identify anomalies\n",
    "anomalies = oct25_merged[oct25_merged['RPC'] > oct25_merged['threshold']]\n",
    "print(\"Anomalies found:\", len(anomalies))"
   ]
  },
  {
   "cell_type": "code",
   "execution_count": 11,
   "id": "834f92fa-cd65-4b00-9b67-d5574d3c09b3",
   "metadata": {},
   "outputs": [],
   "source": [
    "# Export anomalies\n",
    "anomalies.to_csv(\"rpc_anomalies_oct25.csv\", index=False)"
   ]
  },
  {
   "cell_type": "code",
   "execution_count": 12,
   "id": "d51c61bd-d700-4e90-aae7-79d833dd0af0",
   "metadata": {},
   "outputs": [
    {
     "data": {
      "image/png": "[encoded data removed]",
      "text/plain": [
       "<Figure size 1200x600 with 1 Axes>"
      ]
     },
     "metadata": {},
     "output_type": "display_data"
    }
   ],
   "source": [
    "if not anomalies.empty:\n",
    "    plt.figure(figsize=(12,6))\n",
    "    top_anomalies = anomalies.sort_values(by='RPC', ascending=False).head(10)\n",
    "    sns.barplot(\n",
    "        x='RPC',\n",
    "        y=top_anomalies.apply(lambda row: f\"Offer {row.offer_id}\\nCountry {row.country_code}\", axis=1),\n",
    "        data=top_anomalies,\n",
    "        palette='Reds_r'\n",
    "    )\n",
    "    plt.title('Top 10 RPC Anomalies - Oct 25')\n",
    "    plt.xlabel('RPC')\n",
    "    plt.ylabel('Offer / Country')\n",
    "    plt.tight_layout()\n",
    "    plt.show()\n",
    "else:\n",
    "    print(\"✅ No anomalies exceeded threshold.\")"
   ]
  },
  {
   "cell_type": "markdown",
   "id": "f708dbca-840a-492a-b8e1-1986aad81593",
   "metadata": {},
   "source": [
    "## Summary:\n",
    "### * We built a simple anomaly detection system using historical averages (RPC = revenue/initiations)\n",
    "### * Thresholds are defined as 3× the historical RPC (can be tuned).\n",
    "### * Uses minimal assumptions and can be adapted for real-time pipelines.\n",
    "### * Looser matching used (offer + country)\n",
    "### * Output anomalies shown and saved\n",
    "### * Logs help debug when no anomalies are found"
   ]
  }
 ],
 "metadata": {
  "kernelspec": {
   "display_name": "Python 3 (ipykernel)",
   "language": "python",
   "name": "python3"
  },
  "language_info": {
   "codemirror_mode": {
    "name": "ipython",
    "version": 3
   },
   "file_extension": ".py",
   "mimetype": "text/x-python",
   "name": "python",
   "nbconvert_exporter": "python",
   "pygments_lexer": "ipython3",
   "version": "3.11.7"
  }
 },
 "nbformat": 4,
 "nbformat_minor": 5
}

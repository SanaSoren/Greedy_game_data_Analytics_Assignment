{
 "cells": [
  {
   "cell_type": "markdown",
   "id": "fdf9c490-3e05-45aa-83f3-c22b7b533258",
   "metadata": {},
   "source": [
    "# Transaction data analysis"
   ]
  },
  {
   "cell_type": "raw",
   "id": "22c42a5f-2f61-43df-9cbf-a548c5d5b21a",
   "metadata": {},
   "source": [
    "The goal of this analysis is to understand post-first-transaction user behavior—how quickly users return, how many return at all, and how much they spend afterward. These insights are useful for detecting churn patterns or potential fraud."
   ]
  },
  {
   "cell_type": "code",
   "execution_count": 1,
   "id": "796b04b8-7ead-4487-b2ca-d40970833419",
   "metadata": {},
   "outputs": [],
   "source": [
    "import pandas as pd\n",
    "import matplotlib.pyplot as plt\n",
    "import seaborn as sns"
   ]
  },
  {
   "cell_type": "code",
   "execution_count": 2,
   "id": "ead6912e-aac1-4373-8e6e-250876e70b67",
   "metadata": {},
   "outputs": [],
   "source": [
    "# Load the dataset\n",
    "df = pd.read_csv(\"1_txn_data.csv\")"
   ]
  },
  {
   "cell_type": "code",
   "execution_count": 3,
   "id": "6cef91fa-e222-45ff-921d-9e5cbae46bdc",
   "metadata": {},
   "outputs": [
    {
     "data": {
      "text/html": [
       "<div>\n",
       "<style scoped>\n",
       "    .dataframe tbody tr th:only-of-type {\n",
       "        vertical-align: middle;\n",
       "    }\n",
       "\n",
       "    .dataframe tbody tr th {\n",
       "        vertical-align: top;\n",
       "    }\n",
       "\n",
       "    .dataframe thead th {\n",
       "        text-align: right;\n",
       "    }\n",
       "</style>\n",
       "<table border=\"1\" class=\"dataframe\">\n",
       "  <thead>\n",
       "    <tr style=\"text-align: right;\">\n",
       "      <th></th>\n",
       "      <th>adv_id</th>\n",
       "      <th>value_in_paise</th>\n",
       "      <th>payment_gateway</th>\n",
       "      <th>payment_method</th>\n",
       "      <th>payment_status</th>\n",
       "      <th>created_at</th>\n",
       "      <th>app_id</th>\n",
       "      <th>from_currency_amount</th>\n",
       "      <th>from_currency</th>\n",
       "      <th>to_currency_amount</th>\n",
       "      <th>to_currency</th>\n",
       "      <th>transaction_fee_amount</th>\n",
       "      <th>transaction_fee_currency</th>\n",
       "    </tr>\n",
       "  </thead>\n",
       "  <tbody>\n",
       "    <tr>\n",
       "      <th>0</th>\n",
       "      <td>NaN</td>\n",
       "      <td>3000</td>\n",
       "      <td>RAZORPAY</td>\n",
       "      <td>UPI</td>\n",
       "      <td>PROCESSED</td>\n",
       "      <td>2024-10-18 09:34:14.247708+00:00</td>\n",
       "      <td>sikka</td>\n",
       "      <td>300.0</td>\n",
       "      <td>sikka</td>\n",
       "      <td>30.0</td>\n",
       "      <td>INR</td>\n",
       "      <td>130.0</td>\n",
       "      <td>paise</td>\n",
       "    </tr>\n",
       "    <tr>\n",
       "      <th>1</th>\n",
       "      <td>2d3ad81b-a068-460a-9f35-60d7df3c2b78</td>\n",
       "      <td>3000</td>\n",
       "      <td>RAZORPAY</td>\n",
       "      <td>UPI</td>\n",
       "      <td>PROCESSED</td>\n",
       "      <td>2024-10-18 09:34:14.247708+00:00</td>\n",
       "      <td>sikka</td>\n",
       "      <td>300.0</td>\n",
       "      <td>sikka</td>\n",
       "      <td>30.0</td>\n",
       "      <td>INR</td>\n",
       "      <td>130.0</td>\n",
       "      <td>paise</td>\n",
       "    </tr>\n",
       "    <tr>\n",
       "      <th>2</th>\n",
       "      <td>3052eb57-f48d-4bb5-9469-bf4e1c71c8a9</td>\n",
       "      <td>3000</td>\n",
       "      <td>RAZORPAY</td>\n",
       "      <td>UPI</td>\n",
       "      <td>PROCESSED</td>\n",
       "      <td>2024-10-18 09:34:14.247708+00:00</td>\n",
       "      <td>sikka</td>\n",
       "      <td>300.0</td>\n",
       "      <td>sikka</td>\n",
       "      <td>30.0</td>\n",
       "      <td>INR</td>\n",
       "      <td>130.0</td>\n",
       "      <td>paise</td>\n",
       "    </tr>\n",
       "    <tr>\n",
       "      <th>3</th>\n",
       "      <td>802684aa-0870-4258-9561-aa84f6aa88d8</td>\n",
       "      <td>3000</td>\n",
       "      <td>RAZORPAY</td>\n",
       "      <td>UPI</td>\n",
       "      <td>PROCESSED</td>\n",
       "      <td>2024-10-18 09:34:14.247708+00:00</td>\n",
       "      <td>sikka</td>\n",
       "      <td>300.0</td>\n",
       "      <td>sikka</td>\n",
       "      <td>30.0</td>\n",
       "      <td>INR</td>\n",
       "      <td>130.0</td>\n",
       "      <td>paise</td>\n",
       "    </tr>\n",
       "    <tr>\n",
       "      <th>4</th>\n",
       "      <td>92edbd60-5179-47ca-bb6d-122a157a27e0</td>\n",
       "      <td>3000</td>\n",
       "      <td>RAZORPAY</td>\n",
       "      <td>UPI</td>\n",
       "      <td>PROCESSED</td>\n",
       "      <td>2024-10-18 09:34:14.247708+00:00</td>\n",
       "      <td>sikka</td>\n",
       "      <td>300.0</td>\n",
       "      <td>sikka</td>\n",
       "      <td>30.0</td>\n",
       "      <td>INR</td>\n",
       "      <td>130.0</td>\n",
       "      <td>paise</td>\n",
       "    </tr>\n",
       "  </tbody>\n",
       "</table>\n",
       "</div>"
      ],
      "text/plain": [
       "                                 adv_id  value_in_paise payment_gateway  \\\n",
       "0                                   NaN            3000        RAZORPAY   \n",
       "1  2d3ad81b-a068-460a-9f35-60d7df3c2b78            3000        RAZORPAY   \n",
       "2  3052eb57-f48d-4bb5-9469-bf4e1c71c8a9            3000        RAZORPAY   \n",
       "3  802684aa-0870-4258-9561-aa84f6aa88d8            3000        RAZORPAY   \n",
       "4  92edbd60-5179-47ca-bb6d-122a157a27e0            3000        RAZORPAY   \n",
       "\n",
       "  payment_method payment_status                        created_at app_id  \\\n",
       "0            UPI      PROCESSED  2024-10-18 09:34:14.247708+00:00  sikka   \n",
       "1            UPI      PROCESSED  2024-10-18 09:34:14.247708+00:00  sikka   \n",
       "2            UPI      PROCESSED  2024-10-18 09:34:14.247708+00:00  sikka   \n",
       "3            UPI      PROCESSED  2024-10-18 09:34:14.247708+00:00  sikka   \n",
       "4            UPI      PROCESSED  2024-10-18 09:34:14.247708+00:00  sikka   \n",
       "\n",
       "   from_currency_amount from_currency  to_currency_amount to_currency  \\\n",
       "0                 300.0         sikka                30.0         INR   \n",
       "1                 300.0         sikka                30.0         INR   \n",
       "2                 300.0         sikka                30.0         INR   \n",
       "3                 300.0         sikka                30.0         INR   \n",
       "4                 300.0         sikka                30.0         INR   \n",
       "\n",
       "   transaction_fee_amount transaction_fee_currency  \n",
       "0                   130.0                    paise  \n",
       "1                   130.0                    paise  \n",
       "2                   130.0                    paise  \n",
       "3                   130.0                    paise  \n",
       "4                   130.0                    paise  "
      ]
     },
     "execution_count": 3,
     "metadata": {},
     "output_type": "execute_result"
    }
   ],
   "source": [
    "df.head()"
   ]
  },
  {
   "cell_type": "code",
   "execution_count": 4,
   "id": "64cdcdbb-b79a-4daa-8c8d-4b52e9b1c633",
   "metadata": {},
   "outputs": [
    {
     "data": {
      "text/plain": [
       "adv_id                         0\n",
       "value_in_paise                 0\n",
       "payment_gateway                0\n",
       "payment_method                 0\n",
       "payment_status                 0\n",
       "created_at                     0\n",
       "app_id                         0\n",
       "from_currency_amount           0\n",
       "from_currency                  0\n",
       "to_currency_amount             0\n",
       "to_currency                    0\n",
       "transaction_fee_amount         0\n",
       "transaction_fee_currency    7484\n",
       "dtype: int64"
      ]
     },
     "execution_count": 4,
     "metadata": {},
     "output_type": "execute_result"
    }
   ],
   "source": [
    "# Drop rows with missing user IDs\n",
    "df_clean = df.dropna(subset=['adv_id'])\n",
    "\n",
    "df_clean.isna().sum()"
   ]
  },
  {
   "cell_type": "markdown",
   "id": "eb45866f-f65d-4c2f-bf7c-eaef13d9c85d",
   "metadata": {},
   "source": [
    "#### I cleaned the dataset by dropping any null adv_id values, filtered for successful transactions, and sorted them chronologically per user."
   ]
  },
  {
   "cell_type": "code",
   "execution_count": 5,
   "id": "8c7f76f7-1920-4998-be40-51f70ae7c7bb",
   "metadata": {},
   "outputs": [],
   "source": [
    "# Filter only successful transactions\n",
    "df_success = df_clean[df_clean['payment_status'].str.upper() == 'PROCESSED'].copy()\n",
    "\n",
    "# Sort by user and transaction datetime\n",
    "df_success = df_success.sort_values(by=['adv_id', 'created_at'])"
   ]
  },
  {
   "cell_type": "markdown",
   "id": "5f7c8b5e-c3b0-44b0-90af-fd24337b2451",
   "metadata": {},
   "source": [
    "#### 1. From the 1_txn_data.csv dataset, I assume that only transactions with payment_status = 'PROCESSED' are valid. \n",
    "\n",
    "#### 2. Also, adv_id uniquely identifies a user."
   ]
  },
  {
   "cell_type": "code",
   "execution_count": 6,
   "id": "394091c3-c3f4-4796-80d0-2f0f947cdd9d",
   "metadata": {},
   "outputs": [],
   "source": [
    "# Assigning transaction rank per user\n",
    "df_success['txn_rank'] = df_success.groupby('adv_id').cumcount() + 1\n",
    "#df_success.head(5)"
   ]
  },
  {
   "cell_type": "markdown",
   "id": "2f1fd0cd-0a8d-4373-896d-cb9be4ce0efa",
   "metadata": {},
   "source": [
    "#### I assigned a rank to each transaction per user so I could isolate the first and second transactions"
   ]
  },
  {
   "cell_type": "code",
   "execution_count": 7,
   "id": "80b8857c-68cf-49c8-83e9-8c421a2ff926",
   "metadata": {},
   "outputs": [
    {
     "name": "stdout",
     "output_type": "stream",
     "text": [
      "1. Average time to 2nd transaction: 1.64 days\n"
     ]
    }
   ],
   "source": [
    "# Calculate average time to 2nd transaction\n",
    "first_txn = df_success[df_success['txn_rank'] == 1][['adv_id', 'created_at']]\n",
    "second_txn = df_success[df_success['txn_rank'] == 2][['adv_id', 'created_at']]\n",
    "\n",
    "# Merge to compute the time difference\n",
    "txn_diff = pd.merge(second_txn, first_txn, on='adv_id', suffixes=('_2nd', '_1st'))\n",
    "\n",
    "# Ensure created_at columns are datetime\n",
    "txn_diff['created_at_2nd'] = pd.to_datetime(txn_diff['created_at_2nd'], errors='coerce')\n",
    "txn_diff['created_at_1st'] = pd.to_datetime(txn_diff['created_at_1st'], errors='coerce')\n",
    "\n",
    "# Drop rows with invalid dates\n",
    "txn_diff = txn_diff.dropna(subset=['created_at_2nd', 'created_at_1st'])\n",
    "\n",
    "# Compute days between first and second transaction\n",
    "txn_diff['days_to_2nd_txn'] = (txn_diff['created_at_2nd'] - txn_diff['created_at_1st']).dt.total_seconds() / (60 * 60 * 24)\n",
    "\n",
    "# Metric 1: Average days to 2nd transaction\n",
    "avg_days_to_2nd = txn_diff['days_to_2nd_txn'].mean()\n",
    "print(f\"1. Average time to 2nd transaction: {avg_days_to_2nd:.2f} days\")"
   ]
  },
  {
   "cell_type": "markdown",
   "id": "275fd31c-3250-4d8f-8b36-e08ced7e07ca",
   "metadata": {},
   "source": [
    "### Metric 1: Time to 2nd Transaction\n",
    "\n",
    "#### Using created_at, I calculated the average days between first and second transaction. This came out to 1.64 days, indicating fast return behavior."
   ]
  },
  {
   "cell_type": "code",
   "execution_count": 8,
   "id": "64011a16-0235-4751-ab4f-a25f333ad853",
   "metadata": {},
   "outputs": [
    {
     "name": "stdout",
     "output_type": "stream",
     "text": [
      "2. Percentage of users with second transaction: 23.92%\n"
     ]
    }
   ],
   "source": [
    "# Metric 2: Percentage of users who did a second transaction\n",
    "total_users = df_success['adv_id'].nunique()\n",
    "users_with_2_txns = df_success[df_success['txn_rank'] >= 2]['adv_id'].nunique()\n",
    "percent_users_with_2nd = (users_with_2_txns / total_users) * 100\n",
    "print(f\"2. Percentage of users with second transaction: {percent_users_with_2nd:.2f}%\")"
   ]
  },
  {
   "cell_type": "markdown",
   "id": "c1c23e6c-a477-4cd8-9c93-f95f6033d0f7",
   "metadata": {},
   "source": [
    "### Metric 2: Retention\n",
    "\n",
    "#### About 23.92% of users made a second transaction. This is a critical metric for measuring drop-off."
   ]
  },
  {
   "cell_type": "code",
   "execution_count": 9,
   "id": "67c6ba9f-6745-451f-b151-8e4bc48f7e31",
   "metadata": {},
   "outputs": [
    {
     "name": "stdout",
     "output_type": "stream",
     "text": [
      "3. Average transaction amount after first: ₹52.18 INR\n"
     ]
    }
   ],
   "source": [
    "# Metric 3: Average transaction amount after the first\n",
    "# Convert paise to INR\n",
    "df_success['value_in_inr'] = df_success['value_in_paise'] / 100\n",
    "avg_txn_after_first = df_success[df_success['txn_rank'] > 1]['value_in_inr'].mean()\n",
    "print(f\"3. Average transaction amount after first: ₹{avg_txn_after_first:.2f} INR\")"
   ]
  },
  {
   "cell_type": "markdown",
   "id": "92aea5aa-0647-400d-9a15-a4fbea0dbfb5",
   "metadata": {},
   "source": [
    "### Metric 3: Avg. Spend After First\n",
    "\n",
    "#### For users who returned, I calculated the average transaction amount after their first. This was ₹52.18, useful for LTV or retention modeling."
   ]
  },
  {
   "cell_type": "code",
   "execution_count": 10,
   "id": "bc7840e6-870b-47a4-b005-8feb0d32fad2",
   "metadata": {},
   "outputs": [
    {
     "name": "stderr",
     "output_type": "stream",
     "text": [
      "/opt/anaconda3/lib/python3.11/site-packages/seaborn/_oldcore.py:1119: FutureWarning: use_inf_as_na option is deprecated and will be removed in a future version. Convert inf values to NaN before operating instead.\n",
      "  with pd.option_context('mode.use_inf_as_na', True):\n"
     ]
    },
    {
     "data": {
      "image/png": "[encoded data removed]",
      "text/plain": [
       "<Figure size 800x400 with 1 Axes>"
      ]
     },
     "metadata": {},
     "output_type": "display_data"
    }
   ],
   "source": [
    "# Optional: Visualizations\n",
    "# Distribution of days to 2nd transaction\n",
    "plt.figure(figsize=(8, 4))\n",
    "sns.histplot(txn_diff['days_to_2nd_txn'], bins=30, kde=True)\n",
    "plt.title('Distribution of Days to Second Transaction')\n",
    "plt.xlabel('Days')\n",
    "plt.ylabel('User Count')\n",
    "plt.tight_layout()\n",
    "plt.show()"
   ]
  },
  {
   "cell_type": "markdown",
   "id": "b59955e0-707b-4bb0-9ec0-fd9890a040a1",
   "metadata": {},
   "source": [
    "### Histogram: \n",
    "#### This shows the spread of how quickly users come back. Most return within 2–3 days."
   ]
  },
  {
   "cell_type": "code",
   "execution_count": 11,
   "id": "2ede8918-8055-42eb-aef6-cd323242f9fc",
   "metadata": {},
   "outputs": [
    {
     "data": {
      "image/png": "[encoded data removed]",
      "text/plain": [
       "<Figure size 500x500 with 1 Axes>"
      ]
     },
     "metadata": {},
     "output_type": "display_data"
    }
   ],
   "source": [
    "# Pie chart of users with and without 2nd transaction\n",
    "labels = ['Only 1 Transaction', '2 or More Transactions']\n",
    "values = [total_users - users_with_2_txns, users_with_2_txns]\n",
    "plt.figure(figsize=(5, 5))\n",
    "plt.pie(values, labels=labels, autopct='%1.1f%%', startangle=140)\n",
    "plt.title('User Transaction Frequency')\n",
    "plt.tight_layout()\n",
    "plt.show()"
   ]
  },
  {
   "cell_type": "markdown",
   "id": "da32dc82-d000-4948-9840-9dd3fb51ff7b",
   "metadata": {},
   "source": [
    "### Pie chart: \n",
    "\n",
    "#### This visualizes the split between one-time users vs. repeat users."
   ]
  },
  {
   "cell_type": "code",
   "execution_count": 12,
   "id": "7d480c46-d6d7-4c5c-b22b-f751c45cd283",
   "metadata": {},
   "outputs": [
    {
     "data": {
      "image/png": "[encoded data removed]",
      "text/plain": [
       "<Figure size 600x400 with 1 Axes>"
      ]
     },
     "metadata": {},
     "output_type": "display_data"
    }
   ],
   "source": [
    "# Boxplot of transaction amount after first\n",
    "plt.figure(figsize=(6, 4))\n",
    "sns.boxplot(x=df_success[df_success['txn_rank'] > 1]['value_in_inr'])\n",
    "plt.title('Transaction Amounts After First')\n",
    "plt.xlabel('Transaction Amount (INR)')\n",
    "plt.tight_layout()\n",
    "plt.show()"
   ]
  },
  {
   "cell_type": "markdown",
   "id": "8d22f8bc-cda5-4ba2-aa2d-9ff97ba30e1c",
   "metadata": {},
   "source": [
    "### Boxplot:\n",
    "#### This helps us see the distribution of post-first transaction amounts. There are a few high-value outliers."
   ]
  },
  {
   "cell_type": "markdown",
   "id": "2cded38b-dbbd-4126-b571-2a9a4093231c",
   "metadata": {},
   "source": [
    "## Insight :\n",
    "\n",
    "#### less than a quarter of users return after their first transaction, but those who do return quickly and spend a modest amount. This can guide strategies for targeted re-engagement campaigns or flagging users with unusually large second spends for fraud checks."
   ]
  },
  {
   "cell_type": "code",
   "execution_count": null,
   "id": "aa5154d6-8212-483a-9383-4794dddb0ab7",
   "metadata": {},
   "outputs": [],
   "source": []
  }
 ],
 "metadata": {
  "kernelspec": {
   "display_name": "Python 3 (ipykernel)",
   "language": "python",
   "name": "python3"
  },
  "language_info": {
   "codemirror_mode": {
    "name": "ipython",
    "version": 3
   },
   "file_extension": ".py",
   "mimetype": "text/x-python",
   "name": "python",
   "nbconvert_exporter": "python",
   "pygments_lexer": "ipython3",
   "version": "3.11.7"
  }
 },
 "nbformat": 4,
 "nbformat_minor": 5
}
